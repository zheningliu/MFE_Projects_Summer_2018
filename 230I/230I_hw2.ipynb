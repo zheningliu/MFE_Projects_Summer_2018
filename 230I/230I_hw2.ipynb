{
 "cells": [
  {
   "cell_type": "code",
   "execution_count": 4,
   "metadata": {
    "collapsed": true
   },
   "outputs": [],
   "source": [
    "import numpy as np\n",
    "import pandas as pd\n",
    "from scipy.optimize import fsolve\n",
    "from Fixed_Income_Toolbox import *"
   ]
  },
  {
   "cell_type": "code",
   "execution_count": 3,
   "metadata": {},
   "outputs": [
    {
     "data": {
      "text/plain": [
       "[95.23809523809524,\n",
       " 89.84524157139327,\n",
       " 84.6788669093383,\n",
       " 79.50897588580243,\n",
       " 74.7258172866057,\n",
       " 70.09833403416522]"
      ]
     },
     "execution_count": 3,
     "metadata": {},
     "output_type": "execute_result"
    }
   ],
   "source": [
    "maturity = np.arange(1,7)\n",
    "spot = [0.05, 0.055, 0.057, 0.059, 0.06, 0.061]\n",
    "price = []\n",
    "for i in range(len(maturity)):\n",
    "    bond = ZeroCouponBond(100, maturity[i])\n",
    "    price.append(bond.get_price(spot[i]))\n",
    "price"
   ]
  },
  {
   "cell_type": "code",
   "execution_count": 32,
   "metadata": {},
   "outputs": [],
   "source": [
    "def ho_and_lee_calibrate(level, spot, vol, price, fv=100):\n",
    "    calibrate_lv = [s + vol for s in spot[level - 1]] + [spot[level - 1][-1] - vol] # construct the last level of spot\n",
    "    def function(x, *args):\n",
    "        calibrate_lv, spot, price, fv = args\n",
    "        price_tree = [fv / (1 + spot + x) for spot in calibrate_lv]\n",
    "        for i in reversed(range(len(price_tree))):\n",
    "            for j in range(i):\n",
    "                price_tree[j] = (0.5 * price_tree[j] + 0.5 * price_tree[j+1]) / (1 + spot[i][j])\n",
    "        return price_tree[0] - price\n",
    "    args = (calibrate_lv, spot, price, fv)\n",
    "    m = fsolve(function, 0.01, args=args)\n",
    "    return [s + m[0] for s in calibrate_lv]"
   ]
  },
  {
   "cell_type": "code",
   "execution_count": 33,
   "metadata": {},
   "outputs": [
    {
     "data": {
      "text/plain": [
       "[0.09996345790671082, 0.05996345790671081, 0.01996345790671081]"
      ]
     },
     "execution_count": 33,
     "metadata": {},
     "output_type": "execute_result"
    }
   ],
   "source": [
    "# test calibration using the example in class\n",
    "spot_dict = {1:[0.05263], 2:[0.07593, 0.03593]}\n",
    "ho_and_lee_calibrate(3, spot_dict, 0.02, 85)"
   ]
  },
  {
   "cell_type": "code",
   "execution_count": 34,
   "metadata": {},
   "outputs": [
    {
     "data": {
      "text/plain": [
       "{1: [0.05],\n",
       " 2: [0.07523602642117286, 0.04523602642117285],\n",
       " 3: [0.09164759479639102, 0.061647594796391016, 0.03164759479639102],\n",
       " 4: [0.11129248303472124,\n",
       "  0.08129248303472124,\n",
       "  0.05129248303472124,\n",
       "  0.021292483034721237],\n",
       " 5: [0.1261246338504627,\n",
       "  0.09612463385046267,\n",
       "  0.06612463385046267,\n",
       "  0.03612463385046268,\n",
       "  0.006124633850462678],\n",
       " 6: [0.14418404774940974,\n",
       "  0.11418404774940971,\n",
       "  0.08418404774940971,\n",
       "  0.05418404774940973,\n",
       "  0.024184047749409722,\n",
       "  -0.005815952250590278]}"
      ]
     },
     "execution_count": 34,
     "metadata": {},
     "output_type": "execute_result"
    }
   ],
   "source": [
    "# construct the ho and lee tree\n",
    "vol = 0.015\n",
    "spot_dict = {1:[spot[0]]}\n",
    "for lv in range(2, len(price)+1):\n",
    "    spot_dict[lv] = ho_and_lee_calibrate(lv, spot_dict, vol, price[lv-1])\n",
    "spot_dict"
   ]
  },
  {
   "cell_type": "code",
   "execution_count": null,
   "metadata": {
    "collapsed": true
   },
   "outputs": [],
   "source": []
  }
 ],
 "metadata": {
  "kernelspec": {
   "display_name": "Python 3",
   "language": "python",
   "name": "python3"
  },
  "language_info": {
   "codemirror_mode": {
    "name": "ipython",
    "version": 3
   },
   "file_extension": ".py",
   "mimetype": "text/x-python",
   "name": "python",
   "nbconvert_exporter": "python",
   "pygments_lexer": "ipython3",
   "version": "3.6.1"
  }
 },
 "nbformat": 4,
 "nbformat_minor": 2
}
