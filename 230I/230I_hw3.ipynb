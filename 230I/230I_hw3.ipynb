{
 "cells": [
  {
   "cell_type": "code",
   "execution_count": 152,
   "metadata": {
    "collapsed": true
   },
   "outputs": [],
   "source": [
    "import numpy as np\n",
    "import pandas as pd\n",
    "from scipy.optimize import fsolve, root\n",
    "import statsmodels.formula.api as sm\n",
    "from Fixed_Income_Toolbox import *"
   ]
  },
  {
   "cell_type": "code",
   "execution_count": 153,
   "metadata": {},
   "outputs": [
    {
     "data": {
      "text/plain": [
       "[95.23809523809524,\n",
       " 89.84524157139327,\n",
       " 84.6788669093383,\n",
       " 79.50897588580243,\n",
       " 74.7258172866057,\n",
       " 70.09833403416522]"
      ]
     },
     "execution_count": 153,
     "metadata": {},
     "output_type": "execute_result"
    }
   ],
   "source": [
    "maturity = np.arange(1,7)\n",
    "spot = [0.05, 0.055, 0.057, 0.059, 0.06, 0.061]\n",
    "price = []\n",
    "for i in range(len(maturity)):\n",
    "    bond = ZeroCouponBond(100, maturity[i])\n",
    "    price.append(bond.get_price(spot[i]))\n",
    "price"
   ]
  },
  {
   "cell_type": "code",
   "execution_count": 154,
   "metadata": {
    "collapsed": true
   },
   "outputs": [],
   "source": [
    "def ho_and_lee_calibrate(level, spot, vol, price, k=1, fv=100):\n",
    "    calibrate_lv = [s + vol for s in spot[level - 1]] + [spot[level - 1][-1] - vol] # construct the last level of spot\n",
    "    def function(x, *args):\n",
    "        calibrate_lv, spot, price, fv = args\n",
    "        price_tree = [fv / (1 + spot + x) for spot in calibrate_lv]\n",
    "        for i in reversed(range(len(price_tree))):\n",
    "            for j in range(i):\n",
    "                price_tree[j] = (0.5 * price_tree[j] + 0.5 * price_tree[j+1]) / (1 + spot[i][j])\n",
    "        return price_tree[0] - price\n",
    "    args = (calibrate_lv, spot, price, fv)\n",
    "    m = fsolve(function, 0.01, args=args)\n",
    "    return [s + m[0] for s in calibrate_lv]"
   ]
  },
  {
   "cell_type": "code",
   "execution_count": 155,
   "metadata": {},
   "outputs": [
    {
     "data": {
      "text/plain": [
       "[0.09996345790671082, 0.05996345790671081, 0.01996345790671081]"
      ]
     },
     "execution_count": 155,
     "metadata": {},
     "output_type": "execute_result"
    }
   ],
   "source": [
    "# test calibration using the example in class\n",
    "spot_dict = {1:[0.05263], 2:[0.07593, 0.03593]}\n",
    "ho_and_lee_calibrate(3, spot_dict, 0.02, 85)"
   ]
  },
  {
   "cell_type": "code",
   "execution_count": 156,
   "metadata": {},
   "outputs": [
    {
     "data": {
      "text/plain": [
       "{1: [0.05],\n",
       " 2: [0.07523602642117286, 0.04523602642117285],\n",
       " 3: [0.09164759479639102, 0.061647594796391016, 0.03164759479639102],\n",
       " 4: [0.11129248303472124,\n",
       "  0.08129248303472124,\n",
       "  0.05129248303472124,\n",
       "  0.021292483034721237],\n",
       " 5: [0.1261246338504627,\n",
       "  0.09612463385046267,\n",
       "  0.06612463385046267,\n",
       "  0.03612463385046268,\n",
       "  0.006124633850462678],\n",
       " 6: [0.14418404774940974,\n",
       "  0.11418404774940971,\n",
       "  0.08418404774940971,\n",
       "  0.05418404774940973,\n",
       "  0.024184047749409722,\n",
       "  -0.005815952250590278]}"
      ]
     },
     "execution_count": 156,
     "metadata": {},
     "output_type": "execute_result"
    }
   ],
   "source": [
    "# construct the ho and lee tree\n",
    "vol = 0.015\n",
    "spot_dict = {1:[spot[0]]}\n",
    "for lv in range(2, len(price)+1):\n",
    "    spot_dict[lv] = ho_and_lee_calibrate(lv, spot_dict, vol, price[lv-1])\n",
    "spot_dict"
   ]
  },
  {
   "cell_type": "code",
   "execution_count": 157,
   "metadata": {
    "collapsed": true
   },
   "outputs": [],
   "source": [
    "def get_payoff_tree(spot_dict, cf_dict, k=1):\n",
    "    sorted_lv = sorted(spot_dict.keys(), reverse=True)\n",
    "    last_period = sorted_lv[0]\n",
    "    payoff_dict = {}\n",
    "    for lv in sorted_lv:\n",
    "        if lv == last_period:\n",
    "            payoff_dict[lv] = np.divide(cf_dict[lv], [s / k + 1 for s in spot_dict[lv]]).tolist()\n",
    "        else:\n",
    "            payoff_dict[lv] = np.zeros(lv).tolist()\n",
    "            for i in range(lv):\n",
    "                payoff_dict[lv][i] = (0.5 * (payoff_dict[lv+1][i] + payoff_dict[lv+1][i+1]) + cf_dict[lv][i]) / (1 + spot_dict[lv][i] / k)\n",
    "    return payoff_dict"
   ]
  },
  {
   "cell_type": "code",
   "execution_count": 161,
   "metadata": {},
   "outputs": [
    {
     "data": {
      "text/plain": [
       "2.2930854075483995"
      ]
     },
     "execution_count": 161,
     "metadata": {},
     "output_type": "execute_result"
    }
   ],
   "source": [
    "# part a\n",
    "bond = ZeroCouponBond(100, 6)\n",
    "z_ls = [bond.get_discount_function(0.055, t) for t in range(1,7)]\n",
    "fixed_pay = 100 / sum(z_ls)\n",
    "fixed_cf = {i:[fixed_pay]*i for i in range(1, 7)}\n",
    "fixed_payoff = get_payoff_tree(spot_dict, fixed_cf)\n",
    "duration_a = - (fixed_payoff[2][1] - fixed_payoff[2][0]) / (spot_dict[2][1] - spot_dict[2][0]) / fixed_payoff[1][0]\n",
    "duration_a"
   ]
  },
  {
   "cell_type": "code",
   "execution_count": 162,
   "metadata": {},
   "outputs": [
    {
     "name": "stdout",
     "output_type": "stream",
     "text": [
      "{6: [17.495345090340024, 0.0, 0.0, 0.0, 0.0, 0.0], 5: [25.543857618185967, 0.0, 0.0, 0.0, 0.0], 4: [29.506024806168433, 0.0, 0.0, 0.0], 3: [31.851769134165988, 0.0, 0.0], 2: [33.428734199835795, 83.46154377869296], 1: [74.72669881095466]}\n"
     ]
    },
    {
     "data": {
      "text/plain": [
       "22.31813188368427"
      ]
     },
     "execution_count": 162,
     "metadata": {},
     "output_type": "execute_result"
    }
   ],
   "source": [
    "# part b\n",
    "# first get payoff at each node\n",
    "fixed_cf = {i:[fixed_pay]*i for i in range(1, 7)}\n",
    "fixed_payoff = get_payoff_tree(spot_dict, fixed_cf)\n",
    "# then construct a new cash flow tree that computes extra payoff if 5.5% interest rate is quoted\n",
    "cf_dict = {i:[0]*i for i in range(1, 7)}\n",
    "for key in spot_dict:\n",
    "    for i in range(key):\n",
    "        cf_dict[key][i] = fixed_pay * (spot_dict[key][i] - 0.055)\n",
    "# get rid of the nodes that have negative cashflow\n",
    "# then add one time payment from the initial payoff tree\n",
    "option_payoff = get_payoff_tree(spot_dict, cf_dict)\n",
    "option_cf = {i:[0]*i for i in range(1, 7)}\n",
    "threshold = 6\n",
    "for lv in range(1, 7):\n",
    "    for i in range(lv):\n",
    "        if option_payoff[lv][i] >=0 and i < threshold:\n",
    "            option_cf[lv][i] = fixed_pay\n",
    "        elif option_payoff[lv][i] < 0 and i < threshold:\n",
    "            option_cf[lv][i] = fixed_payoff[lv][i]\n",
    "            threshold = i\n",
    "# using the new cash flow tree, get the payoff again\n",
    "final_payoff = get_payoff_tree(spot_dict, option_cf)\n",
    "print(final_payoff)\n",
    "duration_b = - (final_payoff[2][1] - final_payoff[2][0]) / ((spot_dict[2][1] - spot_dict[2][0]) * final_payoff[1][0])\n",
    "duration_b"
   ]
  },
  {
   "cell_type": "code",
   "execution_count": 163,
   "metadata": {},
   "outputs": [
    {
     "data": {
      "text/html": [
       "<div>\n",
       "<style scoped>\n",
       "    .dataframe tbody tr th:only-of-type {\n",
       "        vertical-align: middle;\n",
       "    }\n",
       "\n",
       "    .dataframe tbody tr th {\n",
       "        vertical-align: top;\n",
       "    }\n",
       "\n",
       "    .dataframe thead th {\n",
       "        text-align: right;\n",
       "    }\n",
       "</style>\n",
       "<table border=\"1\" class=\"dataframe\">\n",
       "  <thead>\n",
       "    <tr style=\"text-align: right;\">\n",
       "      <th></th>\n",
       "      <th>0</th>\n",
       "      <th>1</th>\n",
       "      <th>2</th>\n",
       "      <th>3</th>\n",
       "      <th>4</th>\n",
       "      <th>Estimated Z</th>\n",
       "      <th>Price</th>\n",
       "      <th>Spot</th>\n",
       "    </tr>\n",
       "  </thead>\n",
       "  <tbody>\n",
       "    <tr>\n",
       "      <th>0</th>\n",
       "      <td>0.5</td>\n",
       "      <td>0.25</td>\n",
       "      <td>0.125</td>\n",
       "      <td>0.0625</td>\n",
       "      <td>0.03125</td>\n",
       "      <td>0.983559</td>\n",
       "      <td>98.355909</td>\n",
       "      <td>0.033431</td>\n",
       "    </tr>\n",
       "    <tr>\n",
       "      <th>1</th>\n",
       "      <td>1.0</td>\n",
       "      <td>1.00</td>\n",
       "      <td>1.000</td>\n",
       "      <td>1.0000</td>\n",
       "      <td>1.00000</td>\n",
       "      <td>0.966855</td>\n",
       "      <td>96.685521</td>\n",
       "      <td>0.033992</td>\n",
       "    </tr>\n",
       "    <tr>\n",
       "      <th>2</th>\n",
       "      <td>1.5</td>\n",
       "      <td>2.25</td>\n",
       "      <td>3.375</td>\n",
       "      <td>5.0625</td>\n",
       "      <td>7.59375</td>\n",
       "      <td>0.949903</td>\n",
       "      <td>94.990280</td>\n",
       "      <td>0.034559</td>\n",
       "    </tr>\n",
       "    <tr>\n",
       "      <th>3</th>\n",
       "      <td>2.0</td>\n",
       "      <td>4.00</td>\n",
       "      <td>8.000</td>\n",
       "      <td>16.0000</td>\n",
       "      <td>32.00000</td>\n",
       "      <td>0.932721</td>\n",
       "      <td>93.272057</td>\n",
       "      <td>0.035130</td>\n",
       "    </tr>\n",
       "    <tr>\n",
       "      <th>4</th>\n",
       "      <td>2.5</td>\n",
       "      <td>6.25</td>\n",
       "      <td>15.625</td>\n",
       "      <td>39.0625</td>\n",
       "      <td>97.65625</td>\n",
       "      <td>0.915331</td>\n",
       "      <td>91.533093</td>\n",
       "      <td>0.035703</td>\n",
       "    </tr>\n",
       "  </tbody>\n",
       "</table>\n",
       "</div>"
      ],
      "text/plain": [
       "     0     1       2        3         4  Estimated Z      Price      Spot\n",
       "0  0.5  0.25   0.125   0.0625   0.03125     0.983559  98.355909  0.033431\n",
       "1  1.0  1.00   1.000   1.0000   1.00000     0.966855  96.685521  0.033992\n",
       "2  1.5  2.25   3.375   5.0625   7.59375     0.949903  94.990280  0.034559\n",
       "3  2.0  4.00   8.000  16.0000  32.00000     0.932721  93.272057  0.035130\n",
       "4  2.5  6.25  15.625  39.0625  97.65625     0.915331  91.533093  0.035703"
      ]
     },
     "execution_count": 163,
     "metadata": {},
     "output_type": "execute_result"
    }
   ],
   "source": [
    "# data from PS1\n",
    "df = pd.read_excel('HW1_data.xls')\n",
    "bond = ZeroCouponBond(100, df['Maturity'])\n",
    "df['Spot'] = bond.get_spot(df['Price'], k=2)\n",
    "# estimate term structure\n",
    "new_df = pd.DataFrame(df['Maturity'].apply(lambda x: x**i) for i in range(1,6)).T\n",
    "new_df.columns = ['M1','M2','M3','M4','M5']\n",
    "df['Discount Function'] = bond.get_discount_function(df['Spot'], df['Maturity'], k=2)\n",
    "new_df['logZ'] = np.log(df['Discount Function'])\n",
    "rls = sm.ols(formula=\"logZ ~ %s + 0\" % \"+\".join(new_df.loc[:,'M1':'M5'].columns.tolist()),data=new_df).fit()\n",
    "# predict new maturity\n",
    "predict_series = pd.Series(np.linspace(0.5, 10, 20))\n",
    "predict_df = pd.DataFrame(predict_series.apply(lambda x: x**i) for i in range(1,6)).T\n",
    "predict_df['Estimated Z'] = np.exp(np.dot(predict_df, rls.params))\n",
    "predict_df['Price'] = 100 * predict_df['Estimated Z']\n",
    "predict_df['Spot'] = (predict_df['Estimated Z']**(- 1 / (2 * predict_df.loc[:,0])) - 1) * 2\n",
    "predict_df.head()"
   ]
  },
  {
   "cell_type": "code",
   "execution_count": 210,
   "metadata": {
    "collapsed": true
   },
   "outputs": [],
   "source": [
    "# BDT calibration\n",
    "def bdt_calibrate(level, spot, sigma, prop_vol, price, k=1, fv=100):\n",
    "    def calibrate(m, level, spot, sigma):\n",
    "        calibrate_lv = [spot[level-1][0] * np.exp(m + sigma[level-1])]\n",
    "        for i in range(1, level):\n",
    "            calibrate_lv += [calibrate_lv[i-1] * np.exp(- 2 * sigma[level-1])]\n",
    "        return calibrate_lv\n",
    "        \n",
    "    def function(params, *args):\n",
    "        level, spot, sigma, price, k, fv = args\n",
    "        m, sigma[level-1] = params\n",
    "        calibrate_lv = calibrate(m, level, spot, sigma)\n",
    "        price_tree = [fv / (1 + spot / k) for spot in calibrate_lv]\n",
    "        for i in reversed(range(len(price_tree))):\n",
    "            for j in range(i):\n",
    "                if i == 1:\n",
    "                    bond = ZeroCouponBond(fv, level-1)\n",
    "                    spot_u = bond.get_spot(price_tree[j], k=k)\n",
    "                    spot_d = bond.get_spot(price_tree[j+1], k=k)\n",
    "                price_tree[j] = (0.5 * price_tree[j] + 0.5 * price_tree[j+1]) / (1 + spot[i][j] / k)\n",
    "        return [price_tree[0] - price, 0.5 * np.log(spot_u / spot_d) - prop_vol]\n",
    "    \n",
    "    args = (level, spot, sigma, price, k, fv)\n",
    "    r = fsolve(function, [0.01, 0.1], args=args)\n",
    "    return calibrate(r[0], level, spot, sigma)"
   ]
  },
  {
   "cell_type": "code",
   "execution_count": 211,
   "metadata": {},
   "outputs": [
    {
     "data": {
      "text/plain": [
       "[0.06390340424825898, 0.047340806230699646]"
      ]
     },
     "execution_count": 211,
     "metadata": {},
     "output_type": "execute_result"
    }
   ],
   "source": [
    "# test in class example\n",
    "spot_dict = {1:[0.05263], 2:[0.0639, 0.04734]}\n",
    "sigma = {1:0.15, 2:0.13}\n",
    "prop_vol = 0.15\n",
    "price = 90\n",
    "bdt_calibrate(2, spot_dict, sigma, prop_vol, price)"
   ]
  },
  {
   "cell_type": "code",
   "execution_count": 213,
   "metadata": {},
   "outputs": [
    {
     "data": {
      "text/plain": [
       "{1: [0.033431460302576266],\n",
       " 2: [0.03822701005487272, 0.030892244589409704],\n",
       " 3: [0.043698678889266075, 0.03531151825157295, 0.02853411940417843],\n",
       " 4: [0.049933976824511665,\n",
       "  0.040345359359113375,\n",
       "  0.03259800491229783,\n",
       "  0.026338343272735334],\n",
       " 5: [0.057031985063596954,\n",
       "  0.04607277246779216,\n",
       "  0.037219471854291974,\n",
       "  0.03006741315775687,\n",
       "  0.024289687331901254],\n",
       " 6: [0.06510518733327798,\n",
       "  0.05258327027323487,\n",
       "  0.042469738985218435,\n",
       "  0.034301379889463884,\n",
       "  0.027704070955812253,\n",
       "  0.02237564640250617],\n",
       " 7: [0.07428165153039433,\n",
       "  0.059978556373546064,\n",
       "  0.04842955360493916,\n",
       "  0.039104336686038334,\n",
       "  0.03157471076708605,\n",
       "  0.02549493085714689,\n",
       "  0.020585825922695748],\n",
       " 8: [0.0847076346282119,\n",
       "  0.06837453156829666,\n",
       "  0.055190734432654806,\n",
       "  0.04454900234560701,\n",
       "  0.03595918101815762,\n",
       "  0.02902562642065848,\n",
       "  0.023428981563462556,\n",
       "  0.018911467030747222],\n",
       " 9: [0.09655069999289533,\n",
       "  0.07790369125620596,\n",
       "  0.06285801254458896,\n",
       "  0.050718132572966486,\n",
       "  0.0409228492527392,\n",
       "  0.03301934645470458,\n",
       "  0.02664226123558181,\n",
       "  0.021496793848378905,\n",
       "  0.01734507974655439],\n",
       " 10: [0.11000345657690318,\n",
       "  0.08871799665416152,\n",
       "  0.07155123279990114,\n",
       "  0.057706205147335266,\n",
       "  0.04654016405026839,\n",
       "  0.037534730698296735,\n",
       "  0.03027183159629483,\n",
       "  0.024414289676414753,\n",
       "  0.019690170993051093,\n",
       "  0.015880160302600494],\n",
       " 11: [0.12528805460417067,\n",
       "  0.10099232142991509,\n",
       "  0.08140799232637906,\n",
       "  0.06562143656843124,\n",
       "  0.052896193779603785,\n",
       "  0.04263861723678635,\n",
       "  0.03437017959061916,\n",
       "  0.027705149032653018,\n",
       "  0.022332594477656235,\n",
       "  0.018001880282817684,\n",
       "  0.014510973816370948],\n",
       " 12: [0.14266160457577404,\n",
       "  0.11492859918637958,\n",
       "  0.09258681023686238,\n",
       "  0.07458820076572105,\n",
       "  0.06008846918081325,\n",
       "  0.048407443689845654,\n",
       "  0.03899717593960285,\n",
       "  0.031416237159892633,\n",
       "  0.025309011063139826,\n",
       "  0.020389012144709798,\n",
       "  0.016425446857643855,\n",
       "  0.013232387256352897],\n",
       " 13: [0.16242272634559138,\n",
       "  0.13076082705565628,\n",
       "  0.1052709450024778,\n",
       "  0.08474993705108519,\n",
       "  0.06822919495967138,\n",
       "  0.054928926283907345,\n",
       "  0.044221347540247445,\n",
       "  0.035601052315640556,\n",
       "  0.028661155674359253,\n",
       "  0.02307408885857467,\n",
       "  0.018576137776946156,\n",
       "  0.014954995485329943,\n",
       "  0.012039741126586673],\n",
       " 14: [0.18491948630657676,\n",
       "  0.14876111859159338,\n",
       "  0.11967300389280311,\n",
       "  0.09627265508835851,\n",
       "  0.07744791069224115,\n",
       "  0.06230407653230573,\n",
       "  0.05012140311917147,\n",
       "  0.040320877709051614,\n",
       "  0.0324367052407285,\n",
       "  0.026094170232750406,\n",
       "  0.0209918274708367,\n",
       "  0.016887175052315424,\n",
       "  0.013585128862350436,\n",
       "  0.010928750701933545],\n",
       " 15: [0.21055904557467925,\n",
       "  0.16924704717737835,\n",
       "  0.13604052440531378,\n",
       "  0.10934917086663615,\n",
       "  0.0878947006525486,\n",
       "  0.07064962945373619,\n",
       "  0.056788066912945315,\n",
       "  0.045646163591288466,\n",
       "  0.03669031829867942,\n",
       "  0.029491623193396415,\n",
       "  0.02370532279117846,\n",
       "  0.019054303147335465,\n",
       "  0.015315820485923412,\n",
       "  0.012310833691644815,\n",
       "  0.009895429782728974],\n",
       " 16: [0.2398194250954937,\n",
       "  0.19259058245554098,\n",
       "  0.15466275275989513,\n",
       "  0.12420424086307776,\n",
       "  0.09974407653484917,\n",
       "  0.08010097509277041,\n",
       "  0.06432628817382362,\n",
       "  0.0516581894968126,\n",
       "  0.041484883052439574,\n",
       "  0.03331505688910713,\n",
       "  0.026754155582925664,\n",
       "  0.021485325489251358,\n",
       "  0.01725411254144297,\n",
       "  0.013856173588885799,\n",
       "  0.011127407802875027,\n",
       "  0.008936031554252532],\n",
       " 17: [0.2732639001115089,\n",
       "  0.21922900074364368,\n",
       "  0.17587890221666475,\n",
       "  0.1411008039082895,\n",
       "  0.11319968803898482,\n",
       "  0.09081570775778314,\n",
       "  0.07285791081603263,\n",
       "  0.058451068648110956,\n",
       "  0.04689301941052036,\n",
       "  0.037620445960939775,\n",
       "  0.0301814208615978,\n",
       "  0.024213380303111532,\n",
       "  0.019425453440102606,\n",
       "  0.015584285904314777,\n",
       "  0.012502666560464157,\n",
       "  0.010030403194725122,\n",
       "  0.008047002434416427],\n",
       " 18: [0.3115586736955312,\n",
       "  0.24967825127253135,\n",
       "  0.20008824796651284,\n",
       "  0.1603475944350835,\n",
       "  0.12850005586245686,\n",
       "  0.10297793624424781,\n",
       "  0.0825249085064609,\n",
       "  0.06613417176905367,\n",
       "  0.052998891543591053,\n",
       "  0.04247248328229151,\n",
       "  0.03403678423502183,\n",
       "  0.027276546872983455,\n",
       "  0.021858998317136006,\n",
       "  0.017517459583632853,\n",
       "  0.014038218303153055,\n",
       "  0.011250008723360318,\n",
       "  0.009015581147306752,\n",
       "  0.007224945813143762],\n",
       " 19: [0.35549465673044045,\n",
       "  0.28454939034130705,\n",
       "  0.2277625106613208,\n",
       "  0.18230846040655757,\n",
       "  0.1459255723837332,\n",
       "  0.11680353521736069,\n",
       "  0.09349331728777961,\n",
       "  0.07483506694559569,\n",
       "  0.05990040151761515,\n",
       "  0.047946213565626825,\n",
       "  0.03837769592587236,\n",
       "  0.030718745757947002,\n",
       "  0.0245882749908712,\n",
       "  0.019681248439978875,\n",
       "  0.015753506104026472,\n",
       "  0.01260961444221603,\n",
       "  0.010093142144446392,\n",
       "  0.008078876544150456,\n",
       "  0.006466593384057049],\n",
       " 20: [0.40601441285163614,\n",
       "  0.32456886452183603,\n",
       "  0.25946110404580297,\n",
       "  0.20741380912135488,\n",
       "  0.1658070806891941,\n",
       "  0.1325465653571202,\n",
       "  0.10595803215968636,\n",
       "  0.08470309697504376,\n",
       "  0.06771185242805386,\n",
       "  0.054129012078382444,\n",
       "  0.04327085795939262,\n",
       "  0.03459082434075497,\n",
       "  0.027651985308353288,\n",
       "  0.022105061271768967,\n",
       "  0.01767083731528856,\n",
       "  0.014126108386869266,\n",
       "  0.011292443849558447,\n",
       "  0.009027205837806274,\n",
       "  0.007216369310643956,\n",
       "  0.005768782385520419]}"
      ]
     },
     "execution_count": 213,
     "metadata": {},
     "output_type": "execute_result"
    }
   ],
   "source": [
    "# calibrate 10 years model\n",
    "prop_vol = 0.15 * np.sqrt(0.5)\n",
    "spot_dict = {1:[predict_df.loc[0, 'Spot']]}\n",
    "sigma = {1:prop_vol}\n",
    "for lv in range(2, len(predict_df.index)+1):\n",
    "    spot_dict[lv] = bdt_calibrate(lv, spot_dict, sigma, prop_vol, predict_df.loc[lv-1, 'Price'], k=2)\n",
    "spot_dict"
   ]
  },
  {
   "cell_type": "code",
   "execution_count": null,
   "metadata": {
    "collapsed": true
   },
   "outputs": [],
   "source": []
  }
 ],
 "metadata": {
  "kernelspec": {
   "display_name": "Python 3",
   "language": "python",
   "name": "python3"
  },
  "language_info": {
   "codemirror_mode": {
    "name": "ipython",
    "version": 3
   },
   "file_extension": ".py",
   "mimetype": "text/x-python",
   "name": "python",
   "nbconvert_exporter": "python",
   "pygments_lexer": "ipython3",
   "version": "3.6.1"
  }
 },
 "nbformat": 4,
 "nbformat_minor": 2
}
