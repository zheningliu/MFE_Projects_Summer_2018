{
 "cells": [
  {
   "cell_type": "code",
   "execution_count": 3,
   "metadata": {
    "collapsed": true
   },
   "outputs": [],
   "source": [
    "import numpy as np\n",
    "import pandas as pd\n",
    "from scipy.optimize import fsolve, root\n",
    "import statsmodels.formula.api as sm\n",
    "from Fixed_Income_Toolbox import *"
   ]
  },
  {
   "cell_type": "code",
   "execution_count": 4,
   "metadata": {},
   "outputs": [
    {
     "data": {
      "text/plain": [
       "[95.23809523809524,\n",
       " 89.84524157139327,\n",
       " 84.6788669093383,\n",
       " 79.50897588580243,\n",
       " 74.7258172866057,\n",
       " 70.09833403416522]"
      ]
     },
     "execution_count": 4,
     "metadata": {},
     "output_type": "execute_result"
    }
   ],
   "source": [
    "maturity = np.arange(1,7)\n",
    "spot = [0.05, 0.055, 0.057, 0.059, 0.06, 0.061]\n",
    "price = []\n",
    "for i in range(len(maturity)):\n",
    "    bond = ZeroCouponBond(100, maturity[i])\n",
    "    price.append(bond.get_price(spot[i]))\n",
    "price"
   ]
  },
  {
   "cell_type": "code",
   "execution_count": 5,
   "metadata": {
    "collapsed": true
   },
   "outputs": [],
   "source": [
    "def ho_and_lee_calibrate(level, spot, vol, price, k=1, fv=100):\n",
    "    calibrate_lv = [s + vol for s in spot[level - 1]] + [spot[level - 1][-1] - vol] # construct the last level of spot\n",
    "    def function(x, *args):\n",
    "        calibrate_lv, spot, price, fv = args\n",
    "        price_tree = [fv / (1 + spot + x) for spot in calibrate_lv]\n",
    "        for i in reversed(range(len(price_tree))):\n",
    "            for j in range(i):\n",
    "                price_tree[j] = (0.5 * price_tree[j] + 0.5 * price_tree[j+1]) / (1 + spot[i][j])\n",
    "        return price_tree[0] - price\n",
    "    args = (calibrate_lv, spot, price, fv)\n",
    "    m = fsolve(function, 0.01, args=args)\n",
    "    return [s + m[0] for s in calibrate_lv]"
   ]
  },
  {
   "cell_type": "code",
   "execution_count": 6,
   "metadata": {},
   "outputs": [
    {
     "data": {
      "text/plain": [
       "[0.09996345790671082, 0.05996345790671081, 0.01996345790671081]"
      ]
     },
     "execution_count": 6,
     "metadata": {},
     "output_type": "execute_result"
    }
   ],
   "source": [
    "# test calibration using the example in class\n",
    "spot_dict = {1:[0.05263], 2:[0.07593, 0.03593]}\n",
    "ho_and_lee_calibrate(3, spot_dict, 0.02, 85)"
   ]
  },
  {
   "cell_type": "code",
   "execution_count": 7,
   "metadata": {},
   "outputs": [
    {
     "data": {
      "text/plain": [
       "{1: [0.05],\n",
       " 2: [0.07523602642117286, 0.04523602642117285],\n",
       " 3: [0.09164759479639102, 0.061647594796391016, 0.03164759479639102],\n",
       " 4: [0.11129248303472124,\n",
       "  0.08129248303472124,\n",
       "  0.05129248303472124,\n",
       "  0.021292483034721237],\n",
       " 5: [0.1261246338504627,\n",
       "  0.09612463385046267,\n",
       "  0.06612463385046267,\n",
       "  0.03612463385046268,\n",
       "  0.006124633850462678],\n",
       " 6: [0.14418404774940974,\n",
       "  0.11418404774940971,\n",
       "  0.08418404774940971,\n",
       "  0.05418404774940973,\n",
       "  0.024184047749409722,\n",
       "  -0.005815952250590278]}"
      ]
     },
     "execution_count": 7,
     "metadata": {},
     "output_type": "execute_result"
    }
   ],
   "source": [
    "# construct the ho and lee tree\n",
    "vol = 0.015\n",
    "spot_dict = {1:[spot[0]]}\n",
    "for lv in range(2, len(price)+1):\n",
    "    spot_dict[lv] = ho_and_lee_calibrate(lv, spot_dict, vol, price[lv-1])\n",
    "spot_dict"
   ]
  },
  {
   "cell_type": "code",
   "execution_count": 8,
   "metadata": {
    "collapsed": true
   },
   "outputs": [],
   "source": [
    "def get_payoff_tree(spot_dict, cf_dict, k=1):\n",
    "    sorted_lv = sorted(spot_dict.keys(), reverse=True)\n",
    "    last_period = sorted_lv[0]\n",
    "    payoff_dict = {}\n",
    "    for lv in sorted_lv:\n",
    "        if lv == last_period:\n",
    "            payoff_dict[lv] = np.divide(cf_dict[lv], [s / k + 1 for s in spot_dict[lv]]).tolist()\n",
    "        else:\n",
    "            payoff_dict[lv] = np.zeros(lv).tolist()\n",
    "            for i in range(lv):\n",
    "                payoff_dict[lv][i] = (0.5 * (payoff_dict[lv+1][i] + payoff_dict[lv+1][i+1]) + cf_dict[lv][i]) / (1 + spot_dict[lv][i] / k)\n",
    "    return payoff_dict"
   ]
  },
  {
   "cell_type": "code",
   "execution_count": 9,
   "metadata": {},
   "outputs": [
    {
     "data": {
      "text/plain": [
       "3.3441148048312574"
      ]
     },
     "execution_count": 9,
     "metadata": {},
     "output_type": "execute_result"
    }
   ],
   "source": [
    "# part a\n",
    "bond = ZeroCouponBond(100, 6)\n",
    "z_ls = [bond.get_discount_function(0.055, t) for t in range(1,7)]\n",
    "fixed_pay = 100 / sum(z_ls)\n",
    "pv_ls = [z * fixed_pay for z in z_ls]\n",
    "duration_a = np.dot(pv_ls, np.arange(1,7)) / sum(pv_ls)\n",
    "duration_a"
   ]
  },
  {
   "cell_type": "code",
   "execution_count": 10,
   "metadata": {},
   "outputs": [
    {
     "name": "stdout",
     "output_type": "stream",
     "text": [
      "{6: [17.495345090340024, 0.0, 0.0, 0.0, 0.0, 0.0], 5: [25.543857618185967, 0.0, 0.0, 0.0, 0.0], 4: [29.506024806168433, 0.0, 0.0, 0.0], 3: [31.851769134165988, 0.0, 0.0], 2: [33.428734199835795, 83.46154377869296], 1: [74.72669881095466]}\n"
     ]
    },
    {
     "data": {
      "text/plain": [
       "-22.31813188368427"
      ]
     },
     "execution_count": 10,
     "metadata": {},
     "output_type": "execute_result"
    }
   ],
   "source": [
    "# part b\n",
    "# first get payoff at each node\n",
    "fixed_cf = {i:[fixed_pay]*i for i in range(1, 7)}\n",
    "fixed_payoff = get_payoff_tree(spot_dict, fixed_cf)\n",
    "# then construct a new cash flow tree that computes extra payoff if 5.5% interest rate is quoted\n",
    "cf_dict = {i:[0]*i for i in range(1, 7)}\n",
    "for key in spot_dict:\n",
    "    for i in range(key):\n",
    "        cf_dict[key][i] = fixed_pay * (spot_dict[key][i] - 0.055)\n",
    "# get rid of the nodes that have negative cashflow\n",
    "# then add one time payment from the initial payoff tree\n",
    "option_payoff = get_payoff_tree(spot_dict, cf_dict)\n",
    "option_cf = {i:[0]*i for i in range(1, 7)}\n",
    "threshold = 6\n",
    "for lv in range(1, 7):\n",
    "    for i in range(lv):\n",
    "        if option_payoff[lv][i] >=0 and i < threshold:\n",
    "            option_cf[lv][i] = fixed_pay\n",
    "        elif option_payoff[lv][i] < 0 and i < threshold:\n",
    "            option_cf[lv][i] = fixed_payoff[lv][i]\n",
    "            threshold = i\n",
    "# using the new cash flow tree, get the payoff again\n",
    "final_payoff = get_payoff_tree(spot_dict, option_cf)\n",
    "print(final_payoff)\n",
    "duration_b = (final_payoff[2][1] - final_payoff[2][0]) / ((spot_dict[2][1] - spot_dict[2][0]) * final_payoff[1][0])\n",
    "duration_b"
   ]
  },
  {
   "cell_type": "code",
   "execution_count": 19,
   "metadata": {},
   "outputs": [
    {
     "data": {
      "text/html": [
       "<div>\n",
       "<style scoped>\n",
       "    .dataframe tbody tr th:only-of-type {\n",
       "        vertical-align: middle;\n",
       "    }\n",
       "\n",
       "    .dataframe tbody tr th {\n",
       "        vertical-align: top;\n",
       "    }\n",
       "\n",
       "    .dataframe thead th {\n",
       "        text-align: right;\n",
       "    }\n",
       "</style>\n",
       "<table border=\"1\" class=\"dataframe\">\n",
       "  <thead>\n",
       "    <tr style=\"text-align: right;\">\n",
       "      <th></th>\n",
       "      <th>0</th>\n",
       "      <th>1</th>\n",
       "      <th>2</th>\n",
       "      <th>3</th>\n",
       "      <th>4</th>\n",
       "      <th>Estimated Z</th>\n",
       "      <th>Price</th>\n",
       "      <th>Spot</th>\n",
       "    </tr>\n",
       "  </thead>\n",
       "  <tbody>\n",
       "    <tr>\n",
       "      <th>0</th>\n",
       "      <td>0.5</td>\n",
       "      <td>0.25</td>\n",
       "      <td>0.125</td>\n",
       "      <td>0.0625</td>\n",
       "      <td>0.03125</td>\n",
       "      <td>0.983559</td>\n",
       "      <td>98.355909</td>\n",
       "      <td>0.033431</td>\n",
       "    </tr>\n",
       "    <tr>\n",
       "      <th>1</th>\n",
       "      <td>1.0</td>\n",
       "      <td>1.00</td>\n",
       "      <td>1.000</td>\n",
       "      <td>1.0000</td>\n",
       "      <td>1.00000</td>\n",
       "      <td>0.966855</td>\n",
       "      <td>96.685521</td>\n",
       "      <td>0.033992</td>\n",
       "    </tr>\n",
       "    <tr>\n",
       "      <th>2</th>\n",
       "      <td>1.5</td>\n",
       "      <td>2.25</td>\n",
       "      <td>3.375</td>\n",
       "      <td>5.0625</td>\n",
       "      <td>7.59375</td>\n",
       "      <td>0.949903</td>\n",
       "      <td>94.990280</td>\n",
       "      <td>0.034559</td>\n",
       "    </tr>\n",
       "    <tr>\n",
       "      <th>3</th>\n",
       "      <td>2.0</td>\n",
       "      <td>4.00</td>\n",
       "      <td>8.000</td>\n",
       "      <td>16.0000</td>\n",
       "      <td>32.00000</td>\n",
       "      <td>0.932721</td>\n",
       "      <td>93.272057</td>\n",
       "      <td>0.035130</td>\n",
       "    </tr>\n",
       "    <tr>\n",
       "      <th>4</th>\n",
       "      <td>2.5</td>\n",
       "      <td>6.25</td>\n",
       "      <td>15.625</td>\n",
       "      <td>39.0625</td>\n",
       "      <td>97.65625</td>\n",
       "      <td>0.915331</td>\n",
       "      <td>91.533093</td>\n",
       "      <td>0.035703</td>\n",
       "    </tr>\n",
       "  </tbody>\n",
       "</table>\n",
       "</div>"
      ],
      "text/plain": [
       "     0     1       2        3         4  Estimated Z      Price      Spot\n",
       "0  0.5  0.25   0.125   0.0625   0.03125     0.983559  98.355909  0.033431\n",
       "1  1.0  1.00   1.000   1.0000   1.00000     0.966855  96.685521  0.033992\n",
       "2  1.5  2.25   3.375   5.0625   7.59375     0.949903  94.990280  0.034559\n",
       "3  2.0  4.00   8.000  16.0000  32.00000     0.932721  93.272057  0.035130\n",
       "4  2.5  6.25  15.625  39.0625  97.65625     0.915331  91.533093  0.035703"
      ]
     },
     "execution_count": 19,
     "metadata": {},
     "output_type": "execute_result"
    }
   ],
   "source": [
    "# data from PS1\n",
    "df = pd.read_excel('HW1_data.xls')\n",
    "bond = ZeroCouponBond(100, df['Maturity'])\n",
    "df['Spot'] = bond.get_spot(df['Price'], k=2)\n",
    "# estimate term structure\n",
    "new_df = pd.DataFrame(df['Maturity'].apply(lambda x: x**i) for i in range(1,6)).T\n",
    "new_df.columns = ['M1','M2','M3','M4','M5']\n",
    "df['Discount Function'] = bond.get_discount_function(df['Spot'], df['Maturity'], k=2)\n",
    "new_df['logZ'] = np.log(df['Discount Function'])\n",
    "rls = sm.ols(formula=\"logZ ~ %s + 0\" % \"+\".join(new_df.loc[:,'M1':'M5'].columns.tolist()),data=new_df).fit()\n",
    "# predict new maturity\n",
    "predict_series = pd.Series(np.linspace(0.5, 10, 20))\n",
    "predict_df = pd.DataFrame(predict_series.apply(lambda x: x**i) for i in range(1,6)).T\n",
    "predict_df['Estimated Z'] = np.exp(np.dot(predict_df, rls.params))\n",
    "predict_df['Price'] = 100 * predict_df['Estimated Z']\n",
    "predict_df['Spot'] = (predict_df['Estimated Z']**(- 1 / (2 * predict_df.loc[:,0])) - 1) * 2\n",
    "predict_df.head()"
   ]
  },
  {
   "cell_type": "code",
   "execution_count": 27,
   "metadata": {
    "collapsed": true
   },
   "outputs": [],
   "source": [
    "# BDT calibration\n",
    "def bdt_calibrate(level, spot, sigma, prop_vol, price, k=1, fv=100):\n",
    "    def calibrate(m, level, spot, sigma):\n",
    "        calibrate_lv = [spot[level-1][0] * np.exp(m + sigma[level])]\n",
    "        for i in range(1, level):\n",
    "            calibrate_lv += [calibrate_lv[i-1] * np.exp(- 2 * sigma[level])]\n",
    "        return calibrate_lv\n",
    "        \n",
    "    def function(params, *args):\n",
    "        level, spot, sigma, price, k, fv = args\n",
    "        m, sigma[level] = params\n",
    "        calibrate_lv = calibrate(m, level, spot, sigma)\n",
    "        price_tree = [fv / (1 + spot / k) for spot in calibrate_lv]\n",
    "        for i in reversed(range(len(price_tree))):\n",
    "            for j in range(i):\n",
    "                if i == 1:\n",
    "                    bond = ZeroCouponBond(fv, level-1)\n",
    "                    spot_u = bond.get_spot(price_tree[j], k=k)\n",
    "                    spot_d = bond.get_spot(price_tree[j+1], k=k) #spot_u / np.exp(sigma[level-1] * 2)\n",
    "#                     print(spot_u, spot_d, price_tree[j], bond.get_price(spot_d, k=k))\n",
    "#                     price_tree[j+1] = bond.get_price(spot_d, k=k)\n",
    "                price_tree[j] = (0.5 * price_tree[j] + 0.5 * price_tree[j+1]) / (1 + spot[i][j] / k)\n",
    "        return [price_tree[0] - price, 0.5 * np.log(spot_u / spot_d) - prop_vol]\n",
    "    \n",
    "    args = (level, spot, sigma, price, k, fv)\n",
    "    r = fsolve(function, [0.01, 0.1], args=args)\n",
    "#    print(sigma)\n",
    "    return calibrate(r[0], level, spot, sigma)"
   ]
  },
  {
   "cell_type": "code",
   "execution_count": 15,
   "metadata": {},
   "outputs": [
    {
     "name": "stdout",
     "output_type": "stream",
     "text": [
      "0.06436286714952111 0.050206336989755185 88.27151298646581 90.6673100210646\n",
      "0.06436286714952111 0.050206336989755185 88.27151298646581 90.6673100210646\n",
      "0.06436286714952111 0.050206336989755185 88.27151298646581 90.6673100210646\n",
      "0.06436286715434614 0.050206336993697365 88.2715129856655 90.66731002038392\n",
      "0.06436286715374928 0.05020633691444898 88.27151298576447 90.6673100340674\n",
      "0.06299873652342391 0.051586260763361036 88.49821341951944 90.42951329044595\n",
      "0.06293936213644691 0.05152793060600103 88.50810048196722 90.43954614623065\n",
      "0.06293982245686025 0.051530817136838936 88.50802382273268 90.43904962025852\n",
      "0.06293976452462124 0.0515307216862535 88.50803347044423 90.43906603910477\n",
      "0.06293976342085883 0.051530719904323785 88.50803365425865 90.43906634562184\n",
      "0.06293976342058993 0.051530719903889466 88.50803365430346 90.43906634569653\n",
      "{1: 0.15, 2: 0.13, 3: 0.053083946577678814}\n"
     ]
    },
    {
     "data": {
      "text/plain": [
       "[0.06527818770507005, 0.058702954352022746, 0.05279002023194983]"
      ]
     },
     "execution_count": 15,
     "metadata": {},
     "output_type": "execute_result"
    }
   ],
   "source": [
    "# test in class example\n",
    "spot_dict = {1:[0.05263], 2:[0.0639, 0.04734]}\n",
    "sigma = {1:0.15, 2:0.13}\n",
    "prop_vol = 0.1\n",
    "price = 85\n",
    "bdt_calibrate(3, spot_dict, sigma, prop_vol, price)"
   ]
  },
  {
   "cell_type": "code",
   "execution_count": 29,
   "metadata": {},
   "outputs": [
    {
     "data": {
      "text/plain": [
       "{1: [0.03343146030254651],\n",
       " 2: [0.03822701005484726, 0.030892244589389942],\n",
       " 3: [0.04369867888924445, 0.03531151825155759, 0.02853411940416773],\n",
       " 4: [0.04993397682450701,\n",
       "  0.04034535935910407,\n",
       "  0.03259800491228583,\n",
       "  0.026338343272722022],\n",
       " 5: [0.05703198506358424,\n",
       "  0.046072772467784996,\n",
       "  0.0372194718542887,\n",
       "  0.03006741315775625,\n",
       "  0.02428968733190239],\n",
       " 6: [0.06510518733327593,\n",
       "  0.05258327027323466,\n",
       "  0.04246973898521944,\n",
       "  0.03430137988946565,\n",
       "  0.027704070955814442,\n",
       "  0.022375646402508557],\n",
       " 7: [0.07428165153042841,\n",
       "  0.05997855637356644,\n",
       "  0.04842955360494984,\n",
       "  0.039104336686042296,\n",
       "  0.031574710767085484,\n",
       "  0.02549493085714339,\n",
       "  0.020585825922690468],\n",
       " 8: [0.0847076346261465,\n",
       "  0.06837453156786835,\n",
       "  0.05519073443330905,\n",
       "  0.044549002346942264,\n",
       "  0.03595918101988694,\n",
       "  0.029025626422580254,\n",
       "  0.023428981565438274,\n",
       "  0.018911467032684634],\n",
       " 9: [0.09655069999596358,\n",
       "  0.07790369125731843,\n",
       "  0.06285801254438667,\n",
       "  0.050718132571915764,\n",
       "  0.04092284925117532,\n",
       "  0.03301934645286494,\n",
       "  0.02664226123363126,\n",
       "  0.021496793846428906,\n",
       "  0.017345079744677482],\n",
       " 10: [0.11000345657702702,\n",
       "  0.08871799665424493,\n",
       "  0.07155123279995512,\n",
       "  0.05770620514736809,\n",
       "  0.04654016405028622,\n",
       "  0.037534730698304146,\n",
       "  0.030271831596295182,\n",
       "  0.024414289676410506,\n",
       "  0.01969017099304401,\n",
       "  0.015880160302591834],\n",
       " 11: [0.12528805460421868,\n",
       "  0.10099232142995473,\n",
       "  0.08140799232641178,\n",
       "  0.06562143656845823,\n",
       "  0.05289619377962604,\n",
       "  0.042638617236804684,\n",
       "  0.03437017959063426,\n",
       "  0.02770514903266545,\n",
       "  0.022332594477666463,\n",
       "  0.018001880282826097,\n",
       "  0.014510973816377866],\n",
       " 12: [0.14266160457568272,\n",
       "  0.11492859918633358,\n",
       "  0.09258681023684753,\n",
       "  0.07458820076572698,\n",
       "  0.06008846918083244,\n",
       "  0.048407443689872716,\n",
       "  0.038997175939634,\n",
       "  0.03141623715992526,\n",
       "  0.025309011063172182,\n",
       "  0.020389012144740752,\n",
       "  0.01642544685767273,\n",
       "  0.013232387256379334],\n",
       " 13: [0.16242272634574043,\n",
       "  0.13076082705576536,\n",
       "  0.10527094500255683,\n",
       "  0.08474993705114174,\n",
       "  0.06822919495971122,\n",
       "  0.054928926283934844,\n",
       "  0.044221347540265896,\n",
       "  0.035601052315652436,\n",
       "  0.028661155674366428,\n",
       "  0.02307408885857852,\n",
       "  0.018576137776947707,\n",
       "  0.014954995485329943,\n",
       "  0.012039741126585669],\n",
       " 14: [0.18491948630641744,\n",
       "  0.1487611185914991,\n",
       "  0.11967300389275451,\n",
       "  0.09627265508834135,\n",
       "  0.07744791069224498,\n",
       "  0.062304076532323,\n",
       "  0.05012140311919678,\n",
       "  0.04032087770908115,\n",
       "  0.03243670524075966,\n",
       "  0.026094170232781412,\n",
       "  0.020991827470866423,\n",
       "  0.01688717505234318,\n",
       "  0.013585128862375857,\n",
       "  0.010928750701956483],\n",
       " 15: [0.21055904557535154,\n",
       "  0.16924704717784414,\n",
       "  0.13604052440562825,\n",
       "  0.10934917086684075,\n",
       "  0.08789470065267434,\n",
       "  0.07064962945380612,\n",
       "  0.056788066912976505,\n",
       "  0.04564616359129343,\n",
       "  0.03669031829866724,\n",
       "  0.029491623193373635,\n",
       "  0.023705322791149706,\n",
       "  0.01905430314730396,\n",
       "  0.01531582048589134,\n",
       "  0.01231083369161361,\n",
       "  0.009895429782699533],\n",
       " 16: [0.23981942509542628,\n",
       "  0.1925905824555059,\n",
       "  0.15466275275988223,\n",
       "  0.12420424086307967,\n",
       "  0.09974407653486056,\n",
       "  0.08010097509278748,\n",
       "  0.06432628817384368,\n",
       "  0.051658189496833824,\n",
       "  0.041484883052460717,\n",
       "  0.0333150568891274,\n",
       "  0.026754155582944587,\n",
       "  0.021485325489268677,\n",
       "  0.01725411254145858,\n",
       "  0.013856173588899706,\n",
       "  0.011127407802887295,\n",
       "  0.008936031554263268],\n",
       " 17: [0.2732639001118179,\n",
       "  0.2192290007438676,\n",
       "  0.1758789022168252,\n",
       "  0.14110080390840282,\n",
       "  0.11319968803906338,\n",
       "  0.09081570775783625,\n",
       "  0.07285791081606728,\n",
       "  0.05845106864813237,\n",
       "  0.04689301941053242,\n",
       "  0.037620445960945346,\n",
       "  0.030181420861598977,\n",
       "  0.024213380303109832,\n",
       "  0.01942545344009912,\n",
       "  0.01558428590431028,\n",
       "  0.012502666560459183,\n",
       "  0.010030403194720037,\n",
       "  0.00804700243441147],\n",
       " 18: [0.3115586736959302,\n",
       "  0.24967825127280943,\n",
       "  0.20008824796670227,\n",
       "  0.16034759443520855,\n",
       "  0.12850005586253563,\n",
       "  0.10297793624429374,\n",
       "  0.08252490850648393,\n",
       "  0.0661341717690611,\n",
       "  0.05299889154358815,\n",
       "  0.04247248328228209,\n",
       "  0.0340367842350086,\n",
       "  0.027276546872968304,\n",
       "  0.021858998317120217,\n",
       "  0.017517459583617275,\n",
       "  0.014038218303138226,\n",
       "  0.011250008723346559,\n",
       "  0.00901558114729422,\n",
       "  0.0072249458131325136],\n",
       " 19: [0.35549465672986297,\n",
       "  0.2845493903409137,\n",
       "  0.22776251066106112,\n",
       "  0.18230846040639387,\n",
       "  0.1459255723836375,\n",
       "  0.11680353521731238,\n",
       "  0.0934933172877636,\n",
       "  0.07483506694560099,\n",
       "  0.0599004015176339,\n",
       "  0.04794621356565344,\n",
       "  0.03837769592590296,\n",
       "  0.030718745757978935,\n",
       "  0.024588274990902714,\n",
       "  0.019681248440008868,\n",
       "  0.015753506104054293,\n",
       "  0.012609614442241353,\n",
       "  0.010093142144469106,\n",
       "  0.008078876544170593,\n",
       "  0.006466593384074733],\n",
       " 20: [0.40601441285065126,\n",
       "  0.324568864521154,\n",
       "  0.2594611040453419,\n",
       "  0.2074138091210536,\n",
       "  0.165807080689007,\n",
       "  0.13254656535701365,\n",
       "  0.10595803215963555,\n",
       "  0.08470309697503062,\n",
       "  0.06771185242806532,\n",
       "  0.054129012078409165,\n",
       "  0.04327085795942801,\n",
       "  0.03459082434079449,\n",
       "  0.02765198530839385,\n",
       "  0.022105061271808564,\n",
       "  0.017670837315325948,\n",
       "  0.014126108386903737,\n",
       "  0.011292443849589667,\n",
       "  0.00902720583783416,\n",
       "  0.007216369310668589,\n",
       "  0.005768782385541982]}"
      ]
     },
     "execution_count": 29,
     "metadata": {},
     "output_type": "execute_result"
    }
   ],
   "source": [
    "prop_vol = 0.15 * np.sqrt(0.5)\n",
    "spot_dict = {1:[predict_df.loc[0, 'Spot']]}\n",
    "sigma = {1:prop_vol}\n",
    "for lv in range(2, len(predict_df.index)+1):\n",
    "    spot_dict[lv] = bdt_calibrate(lv, spot_dict, sigma, prop_vol, predict_df.loc[lv-1, 'Price'], k=2)\n",
    "spot_dict"
   ]
  },
  {
   "cell_type": "code",
   "execution_count": 35,
   "metadata": {},
   "outputs": [
    {
     "ename": "KeyError",
     "evalue": "'f(%s)'",
     "output_type": "error",
     "traceback": [
      "\u001b[0;31m---------------------------------------------------------------------------\u001b[0m",
      "\u001b[0;31mKeyError\u001b[0m                                  Traceback (most recent call last)",
      "\u001b[0;32m/Users/niniliu/anaconda/lib/python3.6/site-packages/pandas/core/indexes/base.py\u001b[0m in \u001b[0;36mget_loc\u001b[0;34m(self, key, method, tolerance)\u001b[0m\n\u001b[1;32m   3062\u001b[0m             \u001b[0;32mtry\u001b[0m\u001b[0;34m:\u001b[0m\u001b[0;34m\u001b[0m\u001b[0m\n\u001b[0;32m-> 3063\u001b[0;31m                 \u001b[0;32mreturn\u001b[0m \u001b[0mself\u001b[0m\u001b[0;34m.\u001b[0m\u001b[0m_engine\u001b[0m\u001b[0;34m.\u001b[0m\u001b[0mget_loc\u001b[0m\u001b[0;34m(\u001b[0m\u001b[0mkey\u001b[0m\u001b[0;34m)\u001b[0m\u001b[0;34m\u001b[0m\u001b[0m\n\u001b[0m\u001b[1;32m   3064\u001b[0m             \u001b[0;32mexcept\u001b[0m \u001b[0mKeyError\u001b[0m\u001b[0;34m:\u001b[0m\u001b[0;34m\u001b[0m\u001b[0m\n",
      "\u001b[0;32mpandas/_libs/index.pyx\u001b[0m in \u001b[0;36mpandas._libs.index.IndexEngine.get_loc\u001b[0;34m()\u001b[0m\n",
      "\u001b[0;32mpandas/_libs/index.pyx\u001b[0m in \u001b[0;36mpandas._libs.index.IndexEngine.get_loc\u001b[0;34m()\u001b[0m\n",
      "\u001b[0;32mpandas/_libs/hashtable_class_helper.pxi\u001b[0m in \u001b[0;36mpandas._libs.hashtable.PyObjectHashTable.get_item\u001b[0;34m()\u001b[0m\n",
      "\u001b[0;32mpandas/_libs/hashtable_class_helper.pxi\u001b[0m in \u001b[0;36mpandas._libs.hashtable.PyObjectHashTable.get_item\u001b[0;34m()\u001b[0m\n",
      "\u001b[0;31mKeyError\u001b[0m: 'f(%s)'",
      "\nDuring handling of the above exception, another exception occurred:\n",
      "\u001b[0;31mKeyError\u001b[0m                                  Traceback (most recent call last)",
      "\u001b[0;32m<ipython-input-35-1464776db69a>\u001b[0m in \u001b[0;36m<module>\u001b[0;34m()\u001b[0m\n\u001b[1;32m      1\u001b[0m \u001b[0mf_df\u001b[0m \u001b[0;34m=\u001b[0m \u001b[0mpd\u001b[0m\u001b[0;34m.\u001b[0m\u001b[0mread_csv\u001b[0m\u001b[0;34m(\u001b[0m\u001b[0;34m\"f_output.csv\"\u001b[0m\u001b[0;34m)\u001b[0m\u001b[0;34m\u001b[0m\u001b[0m\n\u001b[0;32m----> 2\u001b[0;31m \u001b[0mf_dict\u001b[0m \u001b[0;34m=\u001b[0m \u001b[0;34m{\u001b[0m\u001b[0mlv\u001b[0m\u001b[0;34m:\u001b[0m\u001b[0mf_df\u001b[0m\u001b[0;34m[\u001b[0m\u001b[0;34m'f(%s)'\u001b[0m\u001b[0;34m]\u001b[0m\u001b[0;34m.\u001b[0m\u001b[0mdropna\u001b[0m\u001b[0;34m(\u001b[0m\u001b[0;34m)\u001b[0m\u001b[0;34m.\u001b[0m\u001b[0mtolist\u001b[0m\u001b[0;34m(\u001b[0m\u001b[0;34m)\u001b[0m \u001b[0;34m%\u001b[0m \u001b[0mlv\u001b[0m \u001b[0;32mfor\u001b[0m \u001b[0mlv\u001b[0m \u001b[0;32min\u001b[0m \u001b[0mrange\u001b[0m\u001b[0;34m(\u001b[0m\u001b[0;36m20\u001b[0m\u001b[0;34m)\u001b[0m\u001b[0;34m}\u001b[0m\u001b[0;34m\u001b[0m\u001b[0m\n\u001b[0m",
      "\u001b[0;32m<ipython-input-35-1464776db69a>\u001b[0m in \u001b[0;36m<dictcomp>\u001b[0;34m(.0)\u001b[0m\n\u001b[1;32m      1\u001b[0m \u001b[0mf_df\u001b[0m \u001b[0;34m=\u001b[0m \u001b[0mpd\u001b[0m\u001b[0;34m.\u001b[0m\u001b[0mread_csv\u001b[0m\u001b[0;34m(\u001b[0m\u001b[0;34m\"f_output.csv\"\u001b[0m\u001b[0;34m)\u001b[0m\u001b[0;34m\u001b[0m\u001b[0m\n\u001b[0;32m----> 2\u001b[0;31m \u001b[0mf_dict\u001b[0m \u001b[0;34m=\u001b[0m \u001b[0;34m{\u001b[0m\u001b[0mlv\u001b[0m\u001b[0;34m:\u001b[0m\u001b[0mf_df\u001b[0m\u001b[0;34m[\u001b[0m\u001b[0;34m'f(%s)'\u001b[0m\u001b[0;34m]\u001b[0m\u001b[0;34m.\u001b[0m\u001b[0mdropna\u001b[0m\u001b[0;34m(\u001b[0m\u001b[0;34m)\u001b[0m\u001b[0;34m.\u001b[0m\u001b[0mtolist\u001b[0m\u001b[0;34m(\u001b[0m\u001b[0;34m)\u001b[0m \u001b[0;34m%\u001b[0m \u001b[0mlv\u001b[0m \u001b[0;32mfor\u001b[0m \u001b[0mlv\u001b[0m \u001b[0;32min\u001b[0m \u001b[0mrange\u001b[0m\u001b[0;34m(\u001b[0m\u001b[0;36m20\u001b[0m\u001b[0;34m)\u001b[0m\u001b[0;34m}\u001b[0m\u001b[0;34m\u001b[0m\u001b[0m\n\u001b[0m",
      "\u001b[0;32m/Users/niniliu/anaconda/lib/python3.6/site-packages/pandas/core/frame.py\u001b[0m in \u001b[0;36m__getitem__\u001b[0;34m(self, key)\u001b[0m\n\u001b[1;32m   2683\u001b[0m             \u001b[0;32mreturn\u001b[0m \u001b[0mself\u001b[0m\u001b[0;34m.\u001b[0m\u001b[0m_getitem_multilevel\u001b[0m\u001b[0;34m(\u001b[0m\u001b[0mkey\u001b[0m\u001b[0;34m)\u001b[0m\u001b[0;34m\u001b[0m\u001b[0m\n\u001b[1;32m   2684\u001b[0m         \u001b[0;32melse\u001b[0m\u001b[0;34m:\u001b[0m\u001b[0;34m\u001b[0m\u001b[0m\n\u001b[0;32m-> 2685\u001b[0;31m             \u001b[0;32mreturn\u001b[0m \u001b[0mself\u001b[0m\u001b[0;34m.\u001b[0m\u001b[0m_getitem_column\u001b[0m\u001b[0;34m(\u001b[0m\u001b[0mkey\u001b[0m\u001b[0;34m)\u001b[0m\u001b[0;34m\u001b[0m\u001b[0m\n\u001b[0m\u001b[1;32m   2686\u001b[0m \u001b[0;34m\u001b[0m\u001b[0m\n\u001b[1;32m   2687\u001b[0m     \u001b[0;32mdef\u001b[0m \u001b[0m_getitem_column\u001b[0m\u001b[0;34m(\u001b[0m\u001b[0mself\u001b[0m\u001b[0;34m,\u001b[0m \u001b[0mkey\u001b[0m\u001b[0;34m)\u001b[0m\u001b[0;34m:\u001b[0m\u001b[0;34m\u001b[0m\u001b[0m\n",
      "\u001b[0;32m/Users/niniliu/anaconda/lib/python3.6/site-packages/pandas/core/frame.py\u001b[0m in \u001b[0;36m_getitem_column\u001b[0;34m(self, key)\u001b[0m\n\u001b[1;32m   2690\u001b[0m         \u001b[0;31m# get column\u001b[0m\u001b[0;34m\u001b[0m\u001b[0;34m\u001b[0m\u001b[0m\n\u001b[1;32m   2691\u001b[0m         \u001b[0;32mif\u001b[0m \u001b[0mself\u001b[0m\u001b[0;34m.\u001b[0m\u001b[0mcolumns\u001b[0m\u001b[0;34m.\u001b[0m\u001b[0mis_unique\u001b[0m\u001b[0;34m:\u001b[0m\u001b[0;34m\u001b[0m\u001b[0m\n\u001b[0;32m-> 2692\u001b[0;31m             \u001b[0;32mreturn\u001b[0m \u001b[0mself\u001b[0m\u001b[0;34m.\u001b[0m\u001b[0m_get_item_cache\u001b[0m\u001b[0;34m(\u001b[0m\u001b[0mkey\u001b[0m\u001b[0;34m)\u001b[0m\u001b[0;34m\u001b[0m\u001b[0m\n\u001b[0m\u001b[1;32m   2693\u001b[0m \u001b[0;34m\u001b[0m\u001b[0m\n\u001b[1;32m   2694\u001b[0m         \u001b[0;31m# duplicate columns & possible reduce dimensionality\u001b[0m\u001b[0;34m\u001b[0m\u001b[0;34m\u001b[0m\u001b[0m\n",
      "\u001b[0;32m/Users/niniliu/anaconda/lib/python3.6/site-packages/pandas/core/generic.py\u001b[0m in \u001b[0;36m_get_item_cache\u001b[0;34m(self, item)\u001b[0m\n\u001b[1;32m   2484\u001b[0m         \u001b[0mres\u001b[0m \u001b[0;34m=\u001b[0m \u001b[0mcache\u001b[0m\u001b[0;34m.\u001b[0m\u001b[0mget\u001b[0m\u001b[0;34m(\u001b[0m\u001b[0mitem\u001b[0m\u001b[0;34m)\u001b[0m\u001b[0;34m\u001b[0m\u001b[0m\n\u001b[1;32m   2485\u001b[0m         \u001b[0;32mif\u001b[0m \u001b[0mres\u001b[0m \u001b[0;32mis\u001b[0m \u001b[0;32mNone\u001b[0m\u001b[0;34m:\u001b[0m\u001b[0;34m\u001b[0m\u001b[0m\n\u001b[0;32m-> 2486\u001b[0;31m             \u001b[0mvalues\u001b[0m \u001b[0;34m=\u001b[0m \u001b[0mself\u001b[0m\u001b[0;34m.\u001b[0m\u001b[0m_data\u001b[0m\u001b[0;34m.\u001b[0m\u001b[0mget\u001b[0m\u001b[0;34m(\u001b[0m\u001b[0mitem\u001b[0m\u001b[0;34m)\u001b[0m\u001b[0;34m\u001b[0m\u001b[0m\n\u001b[0m\u001b[1;32m   2487\u001b[0m             \u001b[0mres\u001b[0m \u001b[0;34m=\u001b[0m \u001b[0mself\u001b[0m\u001b[0;34m.\u001b[0m\u001b[0m_box_item_values\u001b[0m\u001b[0;34m(\u001b[0m\u001b[0mitem\u001b[0m\u001b[0;34m,\u001b[0m \u001b[0mvalues\u001b[0m\u001b[0;34m)\u001b[0m\u001b[0;34m\u001b[0m\u001b[0m\n\u001b[1;32m   2488\u001b[0m             \u001b[0mcache\u001b[0m\u001b[0;34m[\u001b[0m\u001b[0mitem\u001b[0m\u001b[0;34m]\u001b[0m \u001b[0;34m=\u001b[0m \u001b[0mres\u001b[0m\u001b[0;34m\u001b[0m\u001b[0m\n",
      "\u001b[0;32m/Users/niniliu/anaconda/lib/python3.6/site-packages/pandas/core/internals.py\u001b[0m in \u001b[0;36mget\u001b[0;34m(self, item, fastpath)\u001b[0m\n\u001b[1;32m   4113\u001b[0m \u001b[0;34m\u001b[0m\u001b[0m\n\u001b[1;32m   4114\u001b[0m             \u001b[0;32mif\u001b[0m \u001b[0;32mnot\u001b[0m \u001b[0misna\u001b[0m\u001b[0;34m(\u001b[0m\u001b[0mitem\u001b[0m\u001b[0;34m)\u001b[0m\u001b[0;34m:\u001b[0m\u001b[0;34m\u001b[0m\u001b[0m\n\u001b[0;32m-> 4115\u001b[0;31m                 \u001b[0mloc\u001b[0m \u001b[0;34m=\u001b[0m \u001b[0mself\u001b[0m\u001b[0;34m.\u001b[0m\u001b[0mitems\u001b[0m\u001b[0;34m.\u001b[0m\u001b[0mget_loc\u001b[0m\u001b[0;34m(\u001b[0m\u001b[0mitem\u001b[0m\u001b[0;34m)\u001b[0m\u001b[0;34m\u001b[0m\u001b[0m\n\u001b[0m\u001b[1;32m   4116\u001b[0m             \u001b[0;32melse\u001b[0m\u001b[0;34m:\u001b[0m\u001b[0;34m\u001b[0m\u001b[0m\n\u001b[1;32m   4117\u001b[0m                 \u001b[0mindexer\u001b[0m \u001b[0;34m=\u001b[0m \u001b[0mnp\u001b[0m\u001b[0;34m.\u001b[0m\u001b[0marange\u001b[0m\u001b[0;34m(\u001b[0m\u001b[0mlen\u001b[0m\u001b[0;34m(\u001b[0m\u001b[0mself\u001b[0m\u001b[0;34m.\u001b[0m\u001b[0mitems\u001b[0m\u001b[0;34m)\u001b[0m\u001b[0;34m)\u001b[0m\u001b[0;34m[\u001b[0m\u001b[0misna\u001b[0m\u001b[0;34m(\u001b[0m\u001b[0mself\u001b[0m\u001b[0;34m.\u001b[0m\u001b[0mitems\u001b[0m\u001b[0;34m)\u001b[0m\u001b[0;34m]\u001b[0m\u001b[0;34m\u001b[0m\u001b[0m\n",
      "\u001b[0;32m/Users/niniliu/anaconda/lib/python3.6/site-packages/pandas/core/indexes/base.py\u001b[0m in \u001b[0;36mget_loc\u001b[0;34m(self, key, method, tolerance)\u001b[0m\n\u001b[1;32m   3063\u001b[0m                 \u001b[0;32mreturn\u001b[0m \u001b[0mself\u001b[0m\u001b[0;34m.\u001b[0m\u001b[0m_engine\u001b[0m\u001b[0;34m.\u001b[0m\u001b[0mget_loc\u001b[0m\u001b[0;34m(\u001b[0m\u001b[0mkey\u001b[0m\u001b[0;34m)\u001b[0m\u001b[0;34m\u001b[0m\u001b[0m\n\u001b[1;32m   3064\u001b[0m             \u001b[0;32mexcept\u001b[0m \u001b[0mKeyError\u001b[0m\u001b[0;34m:\u001b[0m\u001b[0;34m\u001b[0m\u001b[0m\n\u001b[0;32m-> 3065\u001b[0;31m                 \u001b[0;32mreturn\u001b[0m \u001b[0mself\u001b[0m\u001b[0;34m.\u001b[0m\u001b[0m_engine\u001b[0m\u001b[0;34m.\u001b[0m\u001b[0mget_loc\u001b[0m\u001b[0;34m(\u001b[0m\u001b[0mself\u001b[0m\u001b[0;34m.\u001b[0m\u001b[0m_maybe_cast_indexer\u001b[0m\u001b[0;34m(\u001b[0m\u001b[0mkey\u001b[0m\u001b[0;34m)\u001b[0m\u001b[0;34m)\u001b[0m\u001b[0;34m\u001b[0m\u001b[0m\n\u001b[0m\u001b[1;32m   3066\u001b[0m \u001b[0;34m\u001b[0m\u001b[0m\n\u001b[1;32m   3067\u001b[0m         \u001b[0mindexer\u001b[0m \u001b[0;34m=\u001b[0m \u001b[0mself\u001b[0m\u001b[0;34m.\u001b[0m\u001b[0mget_indexer\u001b[0m\u001b[0;34m(\u001b[0m\u001b[0;34m[\u001b[0m\u001b[0mkey\u001b[0m\u001b[0;34m]\u001b[0m\u001b[0;34m,\u001b[0m \u001b[0mmethod\u001b[0m\u001b[0;34m=\u001b[0m\u001b[0mmethod\u001b[0m\u001b[0;34m,\u001b[0m \u001b[0mtolerance\u001b[0m\u001b[0;34m=\u001b[0m\u001b[0mtolerance\u001b[0m\u001b[0;34m)\u001b[0m\u001b[0;34m\u001b[0m\u001b[0m\n",
      "\u001b[0;32mpandas/_libs/index.pyx\u001b[0m in \u001b[0;36mpandas._libs.index.IndexEngine.get_loc\u001b[0;34m()\u001b[0m\n",
      "\u001b[0;32mpandas/_libs/index.pyx\u001b[0m in \u001b[0;36mpandas._libs.index.IndexEngine.get_loc\u001b[0;34m()\u001b[0m\n",
      "\u001b[0;32mpandas/_libs/hashtable_class_helper.pxi\u001b[0m in \u001b[0;36mpandas._libs.hashtable.PyObjectHashTable.get_item\u001b[0;34m()\u001b[0m\n",
      "\u001b[0;32mpandas/_libs/hashtable_class_helper.pxi\u001b[0m in \u001b[0;36mpandas._libs.hashtable.PyObjectHashTable.get_item\u001b[0;34m()\u001b[0m\n",
      "\u001b[0;31mKeyError\u001b[0m: 'f(%s)'"
     ]
    }
   ],
   "source": [
    "f_df = pd.read_csv(\"f_output.csv\")\n",
    "\n",
    "f_dict = {lv:f_df['f(%s)'].dropna().tolist() % lv for lv in range(20)}"
   ]
  },
  {
   "cell_type": "code",
   "execution_count": null,
   "metadata": {
    "collapsed": true
   },
   "outputs": [],
   "source": []
  }
 ],
 "metadata": {
  "kernelspec": {
   "display_name": "Python 3",
   "language": "python",
   "name": "python3"
  },
  "language_info": {
   "codemirror_mode": {
    "name": "ipython",
    "version": 3
   },
   "file_extension": ".py",
   "mimetype": "text/x-python",
   "name": "python",
   "nbconvert_exporter": "python",
   "pygments_lexer": "ipython3",
   "version": "3.6.1"
  }
 },
 "nbformat": 4,
 "nbformat_minor": 2
}
