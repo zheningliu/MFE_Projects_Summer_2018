{
 "cells": [
  {
   "cell_type": "code",
   "execution_count": 57,
   "metadata": {},
   "outputs": [],
   "source": [
    "## Functions for Q2\n",
    "from scipy import stats,integrate\n",
    "from scipy.stats import norm\n",
    "import numpy as np\n",
    "import pandas as pd\n",
    "import matplotlib.pyplot as plt\n",
    "from scipy.optimize import fsolve\n",
    "import time\n",
    "\n",
    "K = 2775\n",
    "St = 2775\n",
    "delta_t = 1\n",
    "sigma = 0.15\n",
    "r = 0.0278\n",
    "y = 0.0189\n",
    "t1 = 2\n",
    "t2 = 1\n",
    "seq = [10**3, 10**4, 10**5, 10**6]\n",
    "\n",
    "def bare_bone_mc_normal(size_seq):\n",
    "    '''Generate a dictionary of random normal series with various length sequence'''\n",
    "    rand_dict = {}\n",
    "    for n in size_seq:\n",
    "        np.random.seed(123)\n",
    "        rand_dict[n] = np.random.normal(size=n)\n",
    "    return rand_dict\n",
    "\n",
    "\n",
    "def simulate_price(x, St=2775, delta_t=1, sigma=0.15, r=0.0278, y=0.0189):\n",
    "    '''Simulate price using random number series x'''\n",
    "    return St * np.exp((r - y - sigma**2 / 2) * delta_t + sigma * np.sqrt(delta_t) * x)\n",
    "\n",
    "\n",
    "def sample_stats(sample_dict, max_min=False, output=[]):\n",
    "    '''Compute sample statistics'''\n",
    "    stats_df = pd.DataFrame(columns=sample_dict.keys())\n",
    "    for key in sample_dict:\n",
    "        stats_df.loc['mean', key] = np.mean(sample_dict[key])\n",
    "        stats_df.loc['std dev', key] = np.std(sample_dict[key])\n",
    "        stats_df.loc['log mean', key] = np.mean(np.log(sample_dict[key]))\n",
    "        stats_df.loc['log variance', key] = np.var(np.log(sample_dict[key]))\n",
    "        if max_min:\n",
    "            stats_df.loc['max', key] = max(sample_dict[key])\n",
    "            stats_df.loc['min', key] = min(sample_dict[key])\n",
    "    if not output:\n",
    "        return stats_df\n",
    "    else:\n",
    "        return stats_df.loc[output, :]\n",
    "\n",
    "\n",
    "def transformation(params, *args):\n",
    "    '''Moment match algorithm to determine parameters for a tranform series'''\n",
    "    x, St, delta_t, sigma, r, y, mean, var = args\n",
    "    xp = params[0] + params[1] * x\n",
    "    ST_p = simulate_price(xp)\n",
    "    return [ST_p.mean() - mean, np.log(ST_p).var() - var]\n",
    "\n",
    "\n",
    "def risk_neutral_put(ST, K=2775, delta_t=1, r=0.0278):\n",
    "    '''Computes risk neural put option price given ST'''\n",
    "    payoff = list(map(lambda x: (K - x) if K > x else 0, ST))\n",
    "    price=np.exp(- r * delta_t) * np.mean(payoff)\n",
    "    error=np.exp(- r * delta_t) * np.std(payoff) / np.sqrt(len(ST))\n",
    "    return price, error, payoff\n",
    "\n",
    "\n",
    "def antithetic(x, St=2775):\n",
    "    '''Antithetic method for variance reduction'''\n",
    "    x_anti = np.multiply(x, -1)\n",
    "    ST = simulate_price(x, St)\n",
    "    ST_anti = simulate_price(x_anti, St)\n",
    "    PT = 0.5 * np.add(risk_neutral_put(ST)[2], risk_neutral_put(ST_anti)[2])\n",
    "    return PT\n",
    "\n",
    "\n",
    "def efficiency_ratio(var1, var2, t1, t2):\n",
    "    '''Ratio tests between Monte Carlo methods'''\n",
    "    return var1 * t1 / (var2 * t2)\n",
    "\n",
    "\n",
    "def finite_diff_delta(x, option_payoff, St, epsilon, method, anti=False):\n",
    "    '''\n",
    "    x: (list) a list of random variables\n",
    "    option_payoff: (function) pass in a payoff function, i.e. bs put\n",
    "    St: (float) S0 value\n",
    "    epsilon: (float) a number of bump size\n",
    "    method: (string) delta plus, minus or center\n",
    "    anti: (boolean) antithetic variates method\n",
    "\n",
    "    Return: (float) delta of some asset prices using finite difference.\n",
    "    '''\n",
    "    ST = simulate_price(x, St)\n",
    "    Pt = option_payoff(ST)[0] if not anti else antithetic(x, St)\n",
    "    ST_delta = epsilon * St\n",
    "    if method == 'p':\n",
    "        St2 = St * (1 + epsilon)\n",
    "        ST2 = simulate_price(x, St2)\n",
    "        Pt2 = option_payoff(ST2)[0] if not anti else antithetic(x, St2)\n",
    "    elif method == 'm':\n",
    "        St2 = St * (1 - epsilon)\n",
    "        ST2 = simulate_price(x, St2)\n",
    "        Pt2 = option_payoff(ST2)[0] if not anti else antithetic(x, St2)\n",
    "        ST_delta *= -1\n",
    "    elif method == 'c':\n",
    "        St1 = St * (1 - epsilon)\n",
    "        St2 = St * (1 + epsilon)\n",
    "        ST1 = simulate_price(x, St1)\n",
    "        ST2 = simulate_price(x, St2)\n",
    "        Pt = option_payoff(ST1)[0] if not anti else antithetic(x, St1)\n",
    "        Pt2 = option_payoff(ST2)[0] if not anti else antithetic(x, St2)\n",
    "        ST_delta *= 2\n",
    "    return (Pt2 - Pt) / ST_delta\n",
    "\n",
    "\n",
    "def finite_diff_gamma(x, option_payoff, St, epsilon, method='c'):\n",
    "    '''Returns gamma of some asset prices using finite difference'''\n",
    "    ST = simulate_price(x, St)\n",
    "    ST1 = simulate_price(x, St * (1 - epsilon))\n",
    "    ST2 = simulate_price(x, St * (1 + epsilon))\n",
    "    Pt, Pt1, Pt2 = [option_payoff(s)[0] for s in [ST, ST1, ST2]]\n",
    "    ST_delta = epsilon * St\n",
    "    return (Pt1 + Pt2 - 2 * Pt) / (ST_delta ** 2)\n",
    "\n",
    "\n",
    "def bs_delta_gamma(S, K, T, r, y, sigma):\n",
    "    '''Returns BS greeks associated with a put option'''\n",
    "    d1=((np.log(S/K)+(r-y)*(T))/(sigma*np.sqrt(T)))+sigma*np.sqrt(T)/2\n",
    "    d2=((np.log(S/K)+(r-y)*(T))/(sigma*np.sqrt(T)))-sigma*np.sqrt(T)/2\n",
    "    Delta = norm.cdf(d1) - 1\n",
    "    Gamma = norm.pdf(d1) / (S * sigma * np.sqrt(T))\n",
    "    return Delta, Gamma"
   ]
  },
  {
   "cell_type": "code",
   "execution_count": 28,
   "metadata": {
    "collapsed": true
   },
   "outputs": [],
   "source": [
    "# a)\n",
    "rand_dict = bare_bone_mc_normal(seq)\n",
    "ST = {key:simulate_price(rand_dict[key]) for key in rand_dict}\n",
    "\n",
    "def SQP_MC(S_T, K=2775,delta_t=1, r=0.0278):\n",
    "    \"Simulate price of Sqrt Put option given terminal stock price\"\n",
    "    payoff = list(map(lambda x:np.sqrt(K)*(np.sqrt(K)-np.sqrt(x)) if K>x else 0,S_T))\n",
    "    price=np.exp(-r*delta_t)*np.mean(payoff)\n",
    "    error=np.exp(-r*delta_t)*np.std(payoff)/np.sqrt(len(S_T))\n",
    "    return price, error, payoff\n",
    "\n",
    "SQP_MC_res = {key:SQP_MC(ST[key]) for key in ST} # Store MC result\n",
    "SQP_MC_0 = {key:SQP_MC_res[key][0] for key in ST}\n",
    "SQP_err = {key:SQP_MC_res[key][1] for key in ST}\n",
    "SQP_payoff = {key:SQP_MC_res[key][2] for key in ST}"
   ]
  },
  {
   "cell_type": "code",
   "execution_count": 29,
   "metadata": {},
   "outputs": [
    {
     "name": "stdout",
     "output_type": "stream",
     "text": [
      "SQP price: {1000: 82.20890233508725, 10000: 77.7203323809961, 100000: 78.53443763679773, 1000000: 78.58844142540487}\n",
      "std: {1000: 3.634331814286209, 10000: 1.1088621803687473, 100000: 0.3526577419621708, 1000000: 0.11174624684368965}\n"
     ]
    },
    {
     "data": {
      "text/plain": [
       "80.74832546397934"
      ]
     },
     "execution_count": 29,
     "metadata": {},
     "output_type": "execute_result"
    }
   ],
   "source": [
    "print(\"SQP price:\",SQP_MC_0)\n",
    "print(\"std:\",SQP_err)\n",
    "#print(\"payoff:\",SQP_payoff)\n",
    "np.mean(SQP_payoff[100000])\n"
   ]
  },
  {
   "cell_type": "code",
   "execution_count": 30,
   "metadata": {},
   "outputs": [
    {
     "name": "stdout",
     "output_type": "stream",
     "text": [
      "78.60835395411857\n",
      "{1000: 0.9907043618899258, 10000: -0.8008403468383822, 100000: -0.20959788635170734, 1000000: -0.17819416111180206}\n"
     ]
    }
   ],
   "source": [
    "# b)\n",
    "def BS(security,K,S,r,y,sigma,T=1,t=0):\n",
    "    d1=((np.log(S/K)+(r-y)*(T-t))/(sigma*np.sqrt(T-t)))+sigma*np.sqrt(T-t)/2\n",
    "    d2=((np.log(S/K)+(r-y)*(T-t))/(sigma*np.sqrt(T-t)))-sigma*np.sqrt(T-t)/2\n",
    "    AONC = S*np.exp(-y*(T-t))*stats.norm.cdf(d1)\n",
    "    CONC = np.exp(-r*(T-t))*stats.norm.cdf(d2)\n",
    "    AONP = S*np.exp(-y*(T-t))*stats.norm.cdf(-d1)\n",
    "    CONP = np.exp(-r*(T-t))*stats.norm.cdf(-d2)\n",
    "    BSC = AONC - K*CONC\n",
    "    BSP = K*CONP - AONP \n",
    "    if security == \"BSC\":\n",
    "        return BSC\n",
    "    elif security == \"BSP\": \n",
    "        return BSP\n",
    "    elif security == \"CONC\": \n",
    "        return CONC\n",
    "    elif security == \"CONP\":\n",
    "        return CONP\n",
    "    elif security == \"AONC\":\n",
    "        return AONC\n",
    "    elif security == \"AONP\":\n",
    "        return AONP\n",
    "    elif security == \"d1\":\n",
    "        return d1\n",
    "    elif security == \"d2\":\n",
    "        return d2\n",
    "\n",
    "alpha = .5\n",
    "y_eff = r - alpha*((r-y)+(alpha-1)*.5*(sigma**2))\n",
    "# Transform to power option \n",
    "SQP_BS = np.sqrt(k)*BS(\"BSP\",K=np.sqrt(k),S=np.sqrt(St),r=r,y=y_eff,sigma=abs(alpha)*sigma,T=delta_t)\n",
    "t_stat = {key:(SQP_MC_0[key]-SQP_BS)/SQP_err[key] for key in rand_dict}\n",
    "print(SQP_BS)\n",
    "print(t_stat)"
   ]
  },
  {
   "cell_type": "code",
   "execution_count": 31,
   "metadata": {
    "scrolled": true
   },
   "outputs": [
    {
     "data": {
      "text/plain": [
       "(2.9837078097245016, 2.913481465089372e-11)"
      ]
     },
     "execution_count": 31,
     "metadata": {},
     "output_type": "execute_result"
    }
   ],
   "source": [
    "# c)\n",
    "def BL_payoff(S=2775, Kstar = 2775, sigma=0.15, r=0.0278, y=0.0189,T=1, t=0):\n",
    "    def integrand(K,*args):\n",
    "        d1=((np.log(S/K)+(r-y)*(T-t))/(sigma*np.sqrt(T-t)))+sigma*np.sqrt(T-t)/2\n",
    "        d2=((np.log(S/K)+(r-y)*(T-t))/(sigma*np.sqrt(T-t)))-sigma*np.sqrt(T-t)/2\n",
    "        AONP = S*np.exp(-y*(T-t))*stats.norm.cdf(-d1)\n",
    "        CONP = np.exp(-r*(T-t))*stats.norm.cdf(-d2)\n",
    "        BSP = K*CONP - AONP \n",
    "        F_dd = .25*np.sqrt(K)*(Kstar**(-1.5))\n",
    "        func = BSP*F_dd\n",
    "        return func\n",
    "    args= (S,Kstar,sigma,r,y,T,t)\n",
    "    result = integrate.quad(integrand, 0, Kstar, args=args)\n",
    "    return result\n",
    "\n",
    "BL_payoff()    \n",
    "        "
   ]
  },
  {
   "cell_type": "code",
   "execution_count": 32,
   "metadata": {},
   "outputs": [
    {
     "data": {
      "text/plain": [
       "{1000: 157.01977499764973,\n",
       " 10000: 148.64675432442846,\n",
       " 100000: 150.17559063107427,\n",
       " 1000000: 150.26175218336903}"
      ]
     },
     "execution_count": 32,
     "metadata": {},
     "output_type": "execute_result"
    }
   ],
   "source": [
    "# d)\n",
    "BSP_MC_res = {key:risk_neutral_put(ST[key]) for key in ST} # Store MC result\n",
    "BSP_MC_0 = {key:BSP_MC_res[key][0] for key in ST}\n",
    "BSP_err = {key:BSP_MC_res[key][1] for key in ST}\n",
    "BSP_payoff = {key:BSP_MC_res[key][2] for key in ST}\n",
    "BSP_MC_0"
   ]
  },
  {
   "cell_type": "code",
   "execution_count": 33,
   "metadata": {},
   "outputs": [
    {
     "name": "stdout",
     "output_type": "stream",
     "text": [
      "cov: {1000: array([[13977.53011574, 26226.31261844],\n",
      "       [26226.31261844, 49244.20491994]]), 10000: array([[13000.05972535, 24449.79860258],\n",
      "       [24449.79860258, 46016.23526062]]), 100000: array([[13147.94749279, 24714.14969962],\n",
      "       [24714.14969962, 46488.24510381]]), 1000000: array([[13201.19051816, 24808.08469007],\n",
      "       [24808.08469007, 46653.51790614]])}\n",
      "corr: {1000: array([[1.       , 0.9996419],\n",
      "       [0.9996419, 1.       ]]), 10000: array([[1.        , 0.99964793],\n",
      "       [0.99964793, 1.        ]]), 100000: array([[1.        , 0.99964343],\n",
      "       [0.99964343, 1.        ]]), 1000000: array([[1.        , 0.99964198],\n",
      "       [0.99964198, 1.        ]])}\n"
     ]
    }
   ],
   "source": [
    "mc_cov = {key:np.cov(np.stack((SQP_payoff[key],BSP_payoff[key]))) for key in SQP_payoff}\n",
    "mc_corr = {key:np.corrcoef(np.stack((SQP_payoff[key],BSP_payoff[key]))) for key in SQP_payoff}\n",
    "print(\"cov:\",mc_cov)\n",
    "print(\"corr:\",mc_corr)"
   ]
  },
  {
   "cell_type": "code",
   "execution_count": 34,
   "metadata": {
    "collapsed": true
   },
   "outputs": [],
   "source": [
    "# e)\n",
    "def cvar_MC(S_T, alpha, K=2775,delta_t=1, r=0.0278):\n",
    "    payoff = list(map(lambda x:(np.sqrt(K) - alpha*(np.sqrt(K)+np.sqrt(x)))*(np.sqrt(K)-np.sqrt(x)) if K>x else 0,S_T))\n",
    "    price=np.exp(-r*delta_t)*np.mean(payoff)\n",
    "    error=np.exp(-r*delta_t)*np.std(payoff)/np.sqrt(len(S_T))\n",
    "    return price, error, payoff\n",
    "\n",
    "cvar_MC_res = {key:cvar_MC(ST[key],.5) for key in ST} # Store MC result\n",
    "cvar_MC_0 = {key:cvar_MC_res[key][0] for key in ST}\n",
    "cvar_err = {key:cvar_MC_res[key][1] for key in ST}\n",
    "cvar_payoff = {key:cvar_MC_res[key][2] for key in ST}"
   ]
  },
  {
   "cell_type": "code",
   "execution_count": 11,
   "metadata": {},
   "outputs": [
    {
     "name": "stdout",
     "output_type": "stream",
     "text": [
      "{1000: 3.699014836262418, 10000: 3.396955218781935, 100000: 3.4466423212606503, 1000000: 3.4575653337204018}\n",
      "{1000: 3.391757757071299, 10000: 1.0371844029767237, 100000: 0.3296713245453414, 1000000: 0.10443663805862108}\n",
      "{1000: 395.41682532556376, 10000: 423.5667142737873, 100000: 416.1208362132884, 1000000: 412.9704019436556}\n"
     ]
    }
   ],
   "source": [
    "# compare error\n",
    "err_diff = {key:SQP_err[key]-cvar_err[key] for key in SQP_err}\n",
    "# efficiency\n",
    "cvar_eff = {key:efficiency_ratio(BSP_err[key]**2, cvar_err[key]**2,1,2) for key in cvar_err}\n",
    "print(cvar_MC_0)\n",
    "print(err_diff)\n",
    "print(cvar_eff)"
   ]
  },
  {
   "cell_type": "code",
   "execution_count": 74,
   "metadata": {},
   "outputs": [
    {
     "data": {
      "text/plain": [
       "(-0.23201138787953823, -3979.0393202565606)"
      ]
     },
     "execution_count": 74,
     "metadata": {},
     "output_type": "execute_result"
    }
   ],
   "source": [
    "# f)\n",
    "# i)\n",
    "# Numerical derivative of closed form SQP\n",
    "def SQP_delta_gamma(S, K, T, r, y, sigma):\n",
    "    SQP_epsilon = 0.00000001\n",
    "    SQP0 = np.sqrt(k)*BS(\"BSP\",K,np.sqrt(S),r,y,sigma,T)\n",
    "    SQP1 = np.sqrt(k)*BS(\"BSP\",K,np.sqrt(S-SQP_epsilon),r,y,sigma,T)\n",
    "    SQP2 = np.sqrt(k)*BS(\"BSP\",K,np.sqrt(S+SQP_epsilon),r,y,sigma,T)\n",
    "    Delta = (SQP2 - SQP1)/(2*SQP_epsilon)\n",
    "    Gamma = (SQP1+SQP2-2*SQP0)/(SQP_epsilon**2)\n",
    "    return Delta, Gamma\n",
    "\n",
    "SQP_delta_gamma(K=np.sqrt(K),S=St,r=r,y=y_eff,sigma=abs(alpha)*sigma,T=delta_t)\n",
    "#SQP2 = np.sqrt(k)*BS(\"BSP\",K=np.sqrt(k),S=np.sqrt(St+SQP_epsilon),r=r,y=y_eff,sigma=abs(alpha)*sigma,T=delta_t)\n",
    "#SQP_delta"
   ]
  },
  {
   "cell_type": "code",
   "execution_count": 75,
   "metadata": {
    "scrolled": true
   },
   "outputs": [
    {
     "data": {
      "image/png": "[encoded data removed]",
      "text/plain": [
       "<matplotlib.figure.Figure at 0x1a1839d940>"
      ]
     },
     "metadata": {},
     "output_type": "display_data"
    }
   ],
   "source": [
    "# plot delta\n",
    "epsilon = [0.1, 0.01, 0.001]\n",
    "method = ['c']\n",
    "sample_size = 1000\n",
    "S0 = np.linspace(0.9 * St, 1.1 * St, sample_size)\n",
    "delta_bs = []\n",
    "gamma_bs = []\n",
    "delta = {}\n",
    "for me in method:\n",
    "    me_df = pd.DataFrame(columns=epsilon)\n",
    "    for S in S0:\n",
    "         # finite difference\n",
    "        for e in epsilon:\n",
    "             me_df.loc[S, e] = finite_diff_delta(rand_dict[1000],SQP_MC, S, e, me)\n",
    "        # bs delta and gamma\n",
    "        delta_bs.append(SQP_delta_gamma(S, np.sqrt(K), delta_t, r, y_eff, abs(alpha)*sigma)[0])\n",
    "    me_df.loc[:, 'bs'] = delta_bs\n",
    "    delta[\"delta_{0}\".format(me)] = me_df.sort_index()\n",
    "    delta[\"delta_{0}\".format(me)].plot(title=\"Delta using method %s\" % me)\n",
    "    plt.show()"
   ]
  },
  {
   "cell_type": "code",
   "execution_count": 70,
   "metadata": {},
   "outputs": [
    {
     "data": {
      "text/plain": [
       "-0.7377421628396007"
      ]
     },
     "execution_count": 70,
     "metadata": {},
     "output_type": "execute_result"
    }
   ],
   "source": [
    "# ii) Plot Gamma\n",
    "gamma_bs = []\n",
    "gamma_df = pd.DataFrame(columns=epsilon)\n",
    "for S in S0:\n",
    "    # finite difference\n",
    "    for e in epsilon:\n",
    "        gamma_df.loc[S, e] = finite_diff_gamma(rand_dict[1000], S, e)\n",
    "    # bs gamma\n",
    "    gamma_bs.append(bs_delta_gamma(S, K, delta_t, r, sigma)[1])\n",
    "gamma_df.loc[:, 'bs'] = gamma_bs\n",
    "gamma_df = gamma_df.sort_index()\n",
    "gamma_df.plot(title=\"Gamma function\")\n",
    "plt.show()"
   ]
  },
  {
   "cell_type": "code",
   "execution_count": 64,
   "metadata": {},
   "outputs": [
    {
     "data": {
      "text/plain": [
       "-0.14667227031011976"
      ]
     },
     "execution_count": 64,
     "metadata": {},
     "output_type": "execute_result"
    }
   ],
   "source": [
    "finite_diff_delta(rand_dict[1000],SQP_MC, 3000, .1, 'c')"
   ]
  },
  {
   "cell_type": "code",
   "execution_count": null,
   "metadata": {
    "collapsed": true
   },
   "outputs": [],
   "source": []
  }
 ],
 "metadata": {
  "kernelspec": {
   "display_name": "Python 3",
   "language": "python",
   "name": "python3"
  },
  "language_info": {
   "codemirror_mode": {
    "name": "ipython",
    "version": 3
   },
   "file_extension": ".py",
   "mimetype": "text/x-python",
   "name": "python",
   "nbconvert_exporter": "python",
   "pygments_lexer": "ipython3",
   "version": "3.6.3"
  }
 },
 "nbformat": 4,
 "nbformat_minor": 2
}
